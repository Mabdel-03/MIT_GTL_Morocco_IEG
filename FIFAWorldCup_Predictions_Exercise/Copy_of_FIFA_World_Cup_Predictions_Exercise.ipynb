{
  "nbformat": 4,
  "nbformat_minor": 0,
  "metadata": {
    "colab": {
      "provenance": []
    },
    "kernelspec": {
      "name": "python3",
      "display_name": "Python 3"
    },
    "language_info": {
      "name": "python"
    }
  },
  "cells": [
    {
      "cell_type": "markdown",
      "source": [
        "Welcome to the FIFA World Cup Machine Learning Predictions Exercise! This was designed by Nicolas Stone Perez (nstonep@mit.edu) in January 2025, an optional exercise as part of the curriculum for the MIT Global Teaching Labs 2025 in Morocco, with the IEG Group, in Lycée Français Guy de Maupassant in Casablanca, and Lycée Français Sophie Germain in Rabat.\n",
        "\n",
        "This first cell is for preparing the data. The data is loaded and prepared for you already. Scroll below to the instructions, and begin your code below the instructions!\n",
        "\n",
        "For reference, the data was gathered from publicly available datasets on Kaggle, at the following pages:\n",
        "\n",
        "https://www.kaggle.com/datasets/piterfm/fifa-football-world-cup\n",
        "\n",
        "https://www.kaggle.com/datasets/cashncarry/fifaworldranking?utm_source=chatgpt.com\n",
        "\n",
        "https://www.kaggle.com/datasets/iamsouravbanerjee/world-population-dataset\n"
      ],
      "metadata": {
        "id": "lP5gX507rYkd"
      }
    },
    {
      "cell_type": "code",
      "source": [
        "#run this cell and scroll down\n",
        "import pandas as pd\n",
        "\n",
        "import warnings\n",
        "with warnings.catch_warnings():\n",
        "    warnings.simplefilter(\"ignore\")\n",
        "\n",
        "def calculate_result(row):\n",
        "    \"\"\"\n",
        "    Helper function to determine the result of a match:\n",
        "    - Returns 1 if the home team wins,\n",
        "    - Returns -1 if the away team wins,\n",
        "    - Returns 0 if it's a draw.\n",
        "    \"\"\"\n",
        "    if row['Home Goals'] > row['Away Goals']:\n",
        "        return 1\n",
        "    elif row['Home Goals'] < row['Away Goals']:\n",
        "        return -1\n",
        "    else:\n",
        "        return 0\n",
        "\n",
        "# For each World Cup year, select the most recent population data available\n",
        "def get_most_recent_population(country, year):\n",
        "    recent_population = population[\n",
        "        (population['Country'] == country) & (population['Year'] <= year)\n",
        "    ]\n",
        "    if not recent_population.empty:  # Check if there are valid population data rows\n",
        "        return recent_population.iloc[-1]['Population']  # Take the most recent population entry\n",
        "    else:\n",
        "        return None  # Return None or NaN if no data found\n",
        "\n",
        "# Load datasets (URLs)\n",
        "matches_url_new = 'https://raw.githubusercontent.com/Mabdel-03/MIT_GTL_Morocco_IEG/refs/heads/main/FIFAWorldCup_Predictions_Exercise/matches_1930_2022_summary.csv'\n",
        "rankings_url = 'https://raw.githubusercontent.com/Mabdel-03/MIT_GTL_Morocco_IEG/refs/heads/main/FIFAWorldCup_Predictions_Exercise/fifa_ranking-2023-07-20.csv'\n",
        "population_url = 'https://raw.githubusercontent.com/Mabdel-03/MIT_GTL_Morocco_IEG/refs/heads/main/FIFAWorldCup_Predictions_Exercise/world_population.csv'\n",
        "\n",
        "# Step 1: Load data\n",
        "matches = pd.read_csv(matches_url_new)\n",
        "rankings = pd.read_csv(rankings_url)\n",
        "population = pd.read_csv(population_url)\n",
        "\n",
        "# Step 2: Clean matches data\n",
        "matches.loc[:,'Year']=matches['Year'].astype(int)\n",
        "matches.loc[:, 'Away Team'] = matches['away_team']\n",
        "matches.loc[:, 'Home Team'] = matches['home_team']\n",
        "matches.loc[:,'Home Goals'] = matches['home_score']\n",
        "matches.loc[:,'Away Goals'] = matches['away_score']\n",
        "\n",
        "# Add match result (-1, 0, 1) for Away Win, Draw, Home Win\n",
        "matches['Result'] = matches.apply(calculate_result, axis=1)\n",
        "\n",
        "# Step 3: Process population data\n",
        "population = population.rename(columns={'Country/Territory': 'Country'})\n",
        "population = population[['Country', '1970 Population', '1980 Population', '1990 Population',\n",
        "                         '2000 Population', '2010 Population', '2020 Population']]\n",
        "\n",
        "# Melt into long format and clean 'Year' column\n",
        "population = population.melt(id_vars='Country', var_name='Year', value_name='Population')\n",
        "population['Year'] = population['Year'].str.extract('(\\d+)').astype(int)\n",
        "\n",
        "# Sort the population data by country and year (ascending)\n",
        "population = population.sort_values(by=['Country', 'Year'])\n",
        "\n",
        "# Apply the most recent population data for both Home and Away teams\n",
        "matches['Home Population'] = matches.apply(lambda row: get_most_recent_population(row['Home Team'], row['Year']), axis=1)\n",
        "matches['Away Population'] = matches.apply(lambda row: get_most_recent_population(row['Away Team'], row['Year']), axis=1)\n",
        "\n",
        "# Filter for World Cup years\n",
        "world_cup_years = [1994, 1998, 2002, 2006, 2010, 2014, 2018, 2022]\n",
        "matches = matches[matches['Year'].isin(world_cup_years)]\n",
        "\n",
        "# Step 4: Process rankings\n",
        "rankings.loc[:,'Year'] = pd.to_datetime(rankings['rank_date']).dt.year\n",
        "rankings.loc[:,'Country'] = rankings['country_full']\n",
        "rankings.loc[:,'Rank'] = rankings['rank']\n",
        "rankings = rankings[['Year', 'Country', 'Rank']]\n",
        "# Average ranks by Country and Year to remove duplicates\n",
        "rankings = rankings.groupby(['Country', 'Year'], as_index=False).agg({'Rank': 'median'})\n",
        "\n",
        "matches.loc[:,'Home Team'] = matches['Home Team'].replace('rn\">Republic of Ireland', 'Republic of Ireland')\n",
        "matches.loc[:,'Away Team'] = matches['Away Team'].replace('rn\">Republic of Ireland', 'Republic of Ireland')\n",
        "rankings.loc[:,'Country'] = rankings['Country'].replace('rn\">Republic of Ireland', 'Republic of Ireland')\n",
        "\n",
        "# Merge rankings into matches\n",
        "matches = matches.merge(rankings, left_on=['Home Team', 'Year'], right_on=['Country', 'Year'], how='left').rename(columns={'Rank': 'Home Rank'})\n",
        "matches = matches.merge(rankings, left_on=['Away Team', 'Year'], right_on=['Country', 'Year'], how='left').rename(columns={'Rank': 'Away Rank'})\n",
        "\n",
        "# Step 5: Final cleanup\n",
        "matches = matches.drop(columns=['home_team', 'away_team', 'Country_x', 'Country_y'])\n",
        "\n",
        "# Output: Check the structure of the resulting DataFrame\n",
        "matches=matches[['Home Team', 'Away Team', 'Year', 'Home Population', 'Away Population', 'Home Rank', 'Away Rank', 'Home Goals','Away Goals','Result']]\n",
        "\n",
        "# Step 5: Add historical goal difference\n",
        "matches['Home Team Historical Goal Diff'] = None\n",
        "matches['Away Team Historical Goal Diff'] = None\n",
        "\n",
        "for index, row in matches.iterrows():\n",
        "    # Historical goal difference for home team (considering both home and away matches)\n",
        "    home_team_matches = matches[\n",
        "        (matches['Home Team'] == row['Home Team']) |  # Include both home and away games\n",
        "        (matches['Away Team'] == row['Home Team'])  # for the home team\n",
        "        & (matches['Year'] < row['Year'])  # Only consider previous matches\n",
        "    ]\n",
        "    if not home_team_matches.empty:\n",
        "        matches.at[index, 'Home Team Historical Goal Diff'] = (\n",
        "            home_team_matches['Home Goals'].sum() - home_team_matches['Away Goals'].sum()\n",
        "        ) / len(home_team_matches)  # Average goal difference over all previous matches\n",
        "    else:\n",
        "        matches.at[index, 'Home Team Historical Goal Diff'] = 0  # Default if no history exists\n",
        "\n",
        "    # Historical goal difference for away team (considering both home and away matches)\n",
        "    away_team_matches = matches[\n",
        "        (matches['Home Team'] == row['Away Team']) |  # Include both home and away games\n",
        "        (matches['Away Team'] == row['Away Team'])  # for the away team\n",
        "        & (matches['Year'] < row['Year'])  # Only consider previous matches\n",
        "    ]\n",
        "    if not away_team_matches.empty:\n",
        "        matches.at[index, 'Away Team Historical Goal Diff'] = (\n",
        "            away_team_matches['Home Goals'].sum() - away_team_matches['Away Goals'].sum()\n",
        "        ) / len(away_team_matches)  # Average goal difference over all previous matches\n",
        "    else:\n",
        "        matches.at[index, 'Away Team Historical Goal Diff'] = 0  # Default if no history exists\n",
        "\n",
        "\n",
        "matches=matches.loc[matches['Year']>1992]\n",
        "\n",
        "# Step 6: Feature selection\n",
        "features = [\n",
        "    'Home Rank', 'Away Rank', 'Home Population', 'Away Population',\n",
        "    'Home Team Historical Goal Diff', 'Away Team Historical Goal Diff'\n",
        "]\n",
        "X = matches[features]\n",
        "y = matches['Result']\n",
        "\n",
        "# Handle missing values\n",
        "X = X.fillna(0)\n",
        "\n",
        "# Step 7: Train-test split (before 2022 for train, 2022 for test)\n",
        "train_data = matches[matches['Year'] < 2022]\n",
        "test_data = matches[matches['Year'] == 2022]\n",
        "\n",
        "X_train = train_data[features]\n",
        "y_train = train_data['Result']\n",
        "\n",
        "X_test = test_data[features]\n",
        "y_test = test_data['Result']\n",
        "\n",
        "# Final output: train-test splits\n",
        "print(\"Training features shape:\", X_train.shape)\n",
        "print(\"Testing features shape:\", X_test.shape)\n"
      ],
      "metadata": {
        "id": "-QZKr79lJd4-"
      },
      "execution_count": null,
      "outputs": []
    },
    {
      "cell_type": "code",
      "source": [
        "matches.head()"
      ],
      "metadata": {
        "id": "Qt3Dr8jyiIqC"
      },
      "execution_count": null,
      "outputs": []
    },
    {
      "cell_type": "code",
      "source": [
        "X_train.head()"
      ],
      "metadata": {
        "id": "5sPERWi3I34J"
      },
      "execution_count": null,
      "outputs": []
    },
    {
      "cell_type": "code",
      "source": [
        "y_train.head()"
      ],
      "metadata": {
        "id": "T_umxzwvX1nB"
      },
      "execution_count": null,
      "outputs": []
    },
    {
      "cell_type": "code",
      "source": [
        "X_test.head()"
      ],
      "metadata": {
        "id": "mKnIWgMaiFAX"
      },
      "execution_count": null,
      "outputs": []
    },
    {
      "cell_type": "code",
      "source": [
        "y_test.head()"
      ],
      "metadata": {
        "id": "fLnBb76uiHO4"
      },
      "execution_count": null,
      "outputs": []
    },
    {
      "cell_type": "code",
      "source": [],
      "metadata": {
        "id": "pj3fGONdiQj0"
      },
      "execution_count": null,
      "outputs": []
    },
    {
      "cell_type": "markdown",
      "source": [
        "Start the FIFA World Cup Predictions using Machine Learning!\n",
        "\n",
        "The training data is all FIFA World Cup matches from 1994-2018 (X_train and y_train). With this data, you can train any machine learning model you would like. Once you have this model ready, you can test it using the 2022 World Cup Data (X_test and y_test). Your goal should be to get as many accurate predictions as possible, and you can revise and modify your model, experimenting with different ideas, in order to try and improve the accuracy. We suggest experimenting with at least 3-5 different machine learning models to predict results. You are encouraged to share your results with Nicolas (nstonep@mit.edu), even long after the MIT/IEG 2025 Program is over! All students in Casablanca and Rabat are welcome to do this.\n",
        "\n",
        "The features to make a prediction:\n",
        "1. Rank (median rank from that year according to the FIFA World Rankings)\n",
        "2. Population (from global population data, according to the last census before that edition of the World Cup)\n",
        "3. Historical Goal Difference (average goal difference for that country in all their previous World Cup matches)\n",
        "\n",
        "The target label:\n",
        "\n",
        "1 means a win for the designated home team\n",
        "\n",
        "0 means a draw\n",
        "\n",
        "-1 means a win for the designated away team\n",
        "\n",
        "Calculate accuracy by comparing your predictions with y_test. The accuracy can simply be a percentage from 0%-100%, based on how many of the 64 matches in 2022 you predicted correctly. The pandas, numpy, and scikit-learn Python libraries will be most helpful throughout this exercise.\n",
        "\n",
        "Note that this is a classification exercise, where 1, 0, and -1 are separate categories. This is not a regression where labels take continuous values. Also, consider the home and away designations for a match meaningless, they are fairly arbitrary and just for FIFA convention. Unless the home team is the host country of the World Cup, there is no perceived advantage for them.\n",
        "\n",
        "Also note, this is a hard exercise! Do not expect high accuracies right away. It is extremely hard for any technology to correctly predict the outcome of football matches.\n",
        "\n",
        "Exercise: Using ranking, population, and historical goal difference data, train a classification model to make predictions for Qatar 2022 matches. Then, next year, use your model to make predictions for the 2026 World Cup!"
      ],
      "metadata": {
        "id": "EaiOlz0dqeQ4"
      }
    },
    {
      "cell_type": "code",
      "source": [
        "#Your Name: (Example: Nicolas)\n",
        "#Your Country: (Example: Ireland)\n",
        "#Your Favorite Football Club: (Example: Inter Miami)\n",
        "\n",
        "#start your code here\n",
        "\n",
        "#train using X_train and y_train ..."
      ],
      "metadata": {
        "id": "CukjmAL0vgm-"
      },
      "execution_count": null,
      "outputs": []
    },
    {
      "cell_type": "code",
      "source": [],
      "metadata": {
        "id": "Y2etGDwywWuE"
      },
      "execution_count": null,
      "outputs": []
    }
  ]
}